{
 "cells": [
  {
   "cell_type": "markdown",
   "id": "10316d5779a3733",
   "metadata": {
    "collapsed": false,
    "jupyter": {
     "outputs_hidden": false
    }
   },
   "source": [
    "# Exercise 2: Boosting\n",
    "\n",
    "## Do not start the exercise until you fully understand the submission guidelines.\n",
    "\n",
    "\n",
    "* The homework assignments are executed automatically. \n",
    "* Failure to comply with the following instructions will result in a significant penalty. \n",
    "* Appeals regarding your failure to read these instructions will be denied. \n",
    "* Kind reminder: the homework assignments contribute 60% of the final grade.\n",
    "\n",
    "\n",
    "## Read the following instructions carefully:\n",
    "\n",
    "1. This Jupyter notebook contains all the step-by-step instructions needed for this exercise.\n",
    "1. Write **efficient**, **vectorized** code whenever possible. Some calculations in this exercise may take several minutes when implemented efficiently, and might take much longer otherwise. Unnecessary loops will result in point deductions.\n",
    "1. You are responsible for the correctness of your code and should add as many tests as you see fit to this jupyter notebook. Tests will not be graded nor checked.\n",
    "1. You are allowed to use functions and methods from the [Python Standard Library](https://docs.python.org/3/library/).\n",
    "1. Your code must run without errors. Use at least `numpy` 1.15.4. Any code that cannot run will not be graded.\n",
    "1. Write your own code. Cheating will not be tolerated.\n",
    "1. Submission includes a zip file that contains this notebook, with your ID as the file name. For example, `hw1_123456789_987654321.zip` if you submitted in pairs and `hw1_123456789.zip` if you submitted the exercise alone. The name of the notebook should follow the same structure.\n",
    "   \n",
    "Please use only a **zip** file in your submission.\n",
    "\n",
    "---\n",
    "---\n",
    "\n",
    "## Please sign that you have read and understood the instructions: \n",
    "\n",
    "### *** YOUR ID HERE ***\n",
    "\n",
    "---\n",
    "---\n"
   ]
  },
  {
   "cell_type": "code",
   "id": "735832cbfa43f83",
   "metadata": {
    "collapsed": false,
    "jupyter": {
     "outputs_hidden": false
    },
    "ExecuteTime": {
     "end_time": "2024-12-15T09:57:02.672552Z",
     "start_time": "2024-12-15T09:56:54.925420Z"
    }
   },
   "source": [
    "# Import necessary libraries\n",
    "import numpy as np\n",
    "from sklearn.datasets import make_classification\n",
    "from sklearn.model_selection import train_test_split\n",
    "from sklearn.ensemble import AdaBoostClassifier\n",
    "from sklearn.metrics import accuracy_score\n",
    "import matplotlib.pyplot as plt\n",
    "\n",
    "np.random.seed(42)"
   ],
   "outputs": [],
   "execution_count": 1
  },
  {
   "cell_type": "markdown",
   "id": "8f877cca-f7d1-41ca-9d3d-28d587bec85c",
   "metadata": {},
   "source": [
    "# Design your algorithm\n",
    "Make sure to describe the algorithm, its limitations, and describe use-cases."
   ]
  },
  {
   "cell_type": "markdown",
   "id": "0ba7760b-b4ef-45a9-9aad-88b45fd8d442",
   "metadata": {},
   "source": []
  },
  {
   "cell_type": "markdown",
   "id": "2158ff2629daf2bb",
   "metadata": {
    "collapsed": false,
    "jupyter": {
     "outputs_hidden": false
    }
   },
   "source": [
    "# Your implementations\n",
    "You may add new cells, write helper functions or test code as you see fit.\n",
    "Please use the cell below and include a description of your implementation.\n",
    "Explain code design consideration, algorithmic choices and any other details you think is relevant to understanding your implementation.\n",
    "Failing to explain your code will lead to point deductions."
   ]
  },
  {
   "cell_type": "markdown",
   "id": "afe206c9-d1f4-440b-aca0-c807cdd79451",
   "metadata": {},
   "source": []
  },
  {
   "metadata": {
    "ExecuteTime": {
     "end_time": "2024-12-16T08:41:08.084095Z",
     "start_time": "2024-12-16T08:41:04.667103Z"
    }
   },
   "cell_type": "code",
   "source": "from sklearn.tree import DecisionTreeClassifier",
   "id": "e57930a70077bb9a",
   "outputs": [],
   "execution_count": 1
  },
  {
   "cell_type": "code",
   "id": "7b85d8f7447ebce0",
   "metadata": {
    "collapsed": false,
    "jupyter": {
     "outputs_hidden": false
    },
    "ExecuteTime": {
     "end_time": "2024-12-15T09:57:02.696305Z",
     "start_time": "2024-12-15T09:57:02.687214Z"
    }
   },
   "source": [
    "# Your code here\n",
    "# Part 1: Implementing AdaBoost\n",
    "class AdaBoostCustom:\n",
    "    def __init__(self, T):\n",
    "        self.T = T\n",
    "        self.alphas = []\n",
    "        self.models = []\n",
    "        # Note: You may add more attributes\n",
    "\n",
    "    def fit(self, X, y):\n",
    "        n_samples, n_features = X.shape\n",
    "        weights = np.ones(n_samples) / n_samples\n",
    "\n",
    "        for t in range(self.T):\n",
    "            model = DecisionTreeClassifier(max_depth=1)\n",
    "            model.fit(X, y, sample_weight=weights)\n",
    "            predictions = model.predict(X)\n",
    "\n",
    "            alpha = self.calculate_new_alpha(predictions, y, weights)\n",
    "            weights = self.calculate_weights(weights, alpha, y, predictions)\n",
    "\n",
    "            self.models.append(model)\n",
    "            self.alphas.append(alpha)\n",
    "    \n",
    "    def predict(self, X):  \n",
    "        final_predictions = np.zeros(X.shape[0])\n",
    "        for model, alpha in zip(self.models, self.alphas):\n",
    "            final_predictions += alpha * model.predict(X)\n",
    "        return np.sign(final_predictions)\n",
    "\n",
    "    @staticmethod\n",
    "    def calculate_new_alpha(predictions, y, weights):\n",
    "        error = np.sum(weights * (predictions != y)) / np.sum(weights)\n",
    "        return 0.5 * np.log((1 - error) / error)\n",
    "\n",
    "    @staticmethod\n",
    "    def calculate_weights(weights, alpha, y, predictions):\n",
    "        return weights * np.exp(-alpha * y * predictions) / np.sum(weights)"
   ],
   "outputs": [],
   "execution_count": 2
  },
  {
   "cell_type": "markdown",
   "id": "df24f179351fa008",
   "metadata": {
    "collapsed": false,
    "jupyter": {
     "outputs_hidden": false
    }
   },
   "source": [
    "# Generate data\n",
    "Please use the cell below to discuss your dataset choice and why it is appropriate (or not) for this algorithm."
   ]
  },
  {
   "cell_type": "markdown",
   "id": "74c4083f-5267-44d3-89ed-65864f82aa57",
   "metadata": {},
   "source": []
  },
  {
   "cell_type": "code",
   "id": "a14a3b8890e86f9",
   "metadata": {
    "collapsed": false,
    "jupyter": {
     "outputs_hidden": false
    },
    "ExecuteTime": {
     "end_time": "2024-12-15T09:57:02.708367Z",
     "start_time": "2024-12-15T09:57:02.703633Z"
    }
   },
   "source": "",
   "outputs": [],
   "execution_count": 3
  },
  {
   "cell_type": "markdown",
   "id": "da49bb42f79a55f",
   "metadata": {
    "collapsed": false,
    "jupyter": {
     "outputs_hidden": false
    }
   },
   "source": [
    "# AdaBoost demonstration \n",
    "Demonstrate your AdaBoost implementation.\n",
    "\n",
    "Add plots and figures. \n",
    "\n",
    "Please use the cell below to describe your results and tests.\n",
    "\n",
    "Describe the difference between your implementation and the sklearn implementation. Hint: you can look at the documentation."
   ]
  },
  {
   "cell_type": "markdown",
   "id": "a064afb5-aeea-48d8-b315-921bf4f8238f",
   "metadata": {},
   "source": []
  },
  {
   "cell_type": "code",
   "id": "9b3628856e1335fd",
   "metadata": {
    "collapsed": false,
    "jupyter": {
     "outputs_hidden": false
    },
    "ExecuteTime": {
     "end_time": "2024-12-15T09:57:02.722492Z",
     "start_time": "2024-12-15T09:57:02.716481Z"
    }
   },
   "source": [
    "custom_model = AdaBoostCustom(T=10)\n",
    "sklearn_model = AdaBoostClassifier(n_estimators=10, random_state=42)\n",
    "\n",
    "# Your code here"
   ],
   "outputs": [],
   "execution_count": 4
  },
  {
   "attachments": {},
   "cell_type": "markdown",
   "id": "73fa2fceedc77e92",
   "metadata": {
    "collapsed": false,
    "jupyter": {
     "outputs_hidden": false
    }
   },
   "source": [
    "# Generate additional data sets\n",
    "Generate at least two experimental datasets with binary labels, designed to demonstrate specific properties of AdaBoost (e.g., handling noise or overfitting).\n",
    "\n",
    "Add plots and figures.\n",
    "\n",
    "Please use the cell below to describe your suggested approach in detail. Use formal notations where appropriate.\n",
    "\n",
    "Describe and discuss your results."
   ]
  },
  {
   "cell_type": "markdown",
   "id": "7b34701c-cc3b-439a-b2d0-393449cf5a20",
   "metadata": {},
   "source": []
  },
  {
   "cell_type": "code",
   "id": "9d38dc132b23e7b",
   "metadata": {
    "collapsed": false,
    "jupyter": {
     "outputs_hidden": false
    },
    "ExecuteTime": {
     "end_time": "2024-12-15T09:57:03.125013Z",
     "start_time": "2024-12-15T09:57:03.119678Z"
    }
   },
   "source": [
    "# Generate additional data sets\n",
    "\n",
    "# Split data sets"
   ],
   "outputs": [],
   "execution_count": 5
  },
  {
   "cell_type": "code",
   "id": "567bfcc7-6542-489d-b67a-13004d3103b1",
   "metadata": {
    "ExecuteTime": {
     "end_time": "2024-12-15T09:57:03.148374Z",
     "start_time": "2024-12-15T09:57:03.142260Z"
    }
   },
   "source": [
    "# Visualize data"
   ],
   "outputs": [],
   "execution_count": 6
  },
  {
   "attachments": {},
   "cell_type": "markdown",
   "id": "5667598e-28fa-496e-b04b-ae528e653894",
   "metadata": {},
   "source": [
    "# Test algorithms\n",
    "Test your AdaBoost, a library implementation of AdaBoost and at least two additional models, one of which must be another boosting algorithm on your two datasets.\n",
    "\n",
    "Add plots and figures.\n",
    "\n",
    "Please use the cell below to describe your suggested approach in detail. Use formal notations where appropriate.\n",
    "\n",
    "Describe and discuss your results."
   ]
  },
  {
   "cell_type": "markdown",
   "id": "f959a354-350d-49b8-b203-bdf889778766",
   "metadata": {},
   "source": []
  },
  {
   "cell_type": "code",
   "id": "6e4c3e86-003e-4812-8b36-65e13fccc4c9",
   "metadata": {
    "ExecuteTime": {
     "end_time": "2024-12-15T09:57:03.208867Z",
     "start_time": "2024-12-15T09:57:03.201931Z"
    }
   },
   "source": [
    "# Set up models "
   ],
   "outputs": [],
   "execution_count": 7
  },
  {
   "cell_type": "code",
   "id": "d097c906-f362-4084-9ee8-0ff34568d53a",
   "metadata": {
    "ExecuteTime": {
     "end_time": "2024-12-15T09:57:03.234490Z",
     "start_time": "2024-12-15T09:57:03.228304Z"
    }
   },
   "source": [
    "# Test and visualize"
   ],
   "outputs": [],
   "execution_count": 8
  },
  {
   "cell_type": "markdown",
   "id": "18c95c7f-d3a9-4e3d-b539-02e020358766",
   "metadata": {},
   "source": [
    "# Use of generative AI\n",
    "Please use the cell below to describe your use of generative AI in this assignment. "
   ]
  },
  {
   "cell_type": "markdown",
   "id": "36753fd7-8b2d-487b-82ae-dc318eca3ca6",
   "metadata": {},
   "source": []
  }
 ],
 "metadata": {
  "kernelspec": {
   "display_name": "Python 3 (ipykernel)",
   "language": "python",
   "name": "python3"
  },
  "language_info": {
   "codemirror_mode": {
    "name": "ipython",
    "version": 3
   },
   "file_extension": ".py",
   "mimetype": "text/x-python",
   "name": "python",
   "nbconvert_exporter": "python",
   "pygments_lexer": "ipython3",
   "version": "3.12.7"
  }
 },
 "nbformat": 4,
 "nbformat_minor": 5
}
