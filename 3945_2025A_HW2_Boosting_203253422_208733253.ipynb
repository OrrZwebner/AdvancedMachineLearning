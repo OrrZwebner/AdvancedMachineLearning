{
 "cells": [
  {
   "cell_type": "markdown",
   "id": "10316d5779a3733",
   "metadata": {
    "collapsed": false,
    "jupyter": {
     "outputs_hidden": false
    }
   },
   "source": [
    "# Exercise 2: Boosting\n",
    "\n",
    "## Do not start the exercise until you fully understand the submission guidelines.\n",
    "\n",
    "\n",
    "* The homework assignments are executed automatically. \n",
    "* Failure to comply with the following instructions will result in a significant penalty. \n",
    "* Appeals regarding your failure to read these instructions will be denied. \n",
    "* Kind reminder: the homework assignments contribute 60% of the final grade.\n",
    "\n",
    "\n",
    "## Read the following instructions carefully:\n",
    "\n",
    "1. This Jupyter notebook contains all the step-by-step instructions needed for this exercise.\n",
    "1. Write **efficient**, **vectorized** code whenever possible. Some calculations in this exercise may take several minutes when implemented efficiently, and might take much longer otherwise. Unnecessary loops will result in point deductions.\n",
    "1. You are responsible for the correctness of your code and should add as many tests as you see fit to this jupyter notebook. Tests will not be graded nor checked.\n",
    "1. You are allowed to use functions and methods from the [Python Standard Library](https://docs.python.org/3/library/).\n",
    "1. Your code must run without errors. Use at least `numpy` 1.15.4. Any code that cannot run will not be graded.\n",
    "1. Write your own code. Cheating will not be tolerated.\n",
    "1. Submission includes a zip file that contains this notebook, with your ID as the file name. For example, `hw1_123456789_987654321.zip` if you submitted in pairs and `hw1_123456789.zip` if you submitted the exercise alone. The name of the notebook should follow the same structure.\n",
    "   \n",
    "Please use only a **zip** file in your submission.\n",
    "\n",
    "---\n",
    "---\n",
    "\n",
    "## Please sign that you have read and understood the instructions: \n",
    "\n",
    "### *** YOUR ID HERE ***\n",
    "\n",
    "---\n",
    "---\n"
   ]
  },
  {
   "cell_type": "code",
   "id": "735832cbfa43f83",
   "metadata": {
    "collapsed": false,
    "jupyter": {
     "outputs_hidden": false
    },
    "ExecuteTime": {
     "end_time": "2024-12-17T12:31:11.476460Z",
     "start_time": "2024-12-17T12:31:09.419649Z"
    }
   },
   "source": [
    "# Import necessary libraries\n",
    "import numpy as np\n",
    "from sklearn.datasets import make_classification\n",
    "from sklearn.model_selection import train_test_split\n",
    "from sklearn.ensemble import AdaBoostClassifier\n",
    "from sklearn.metrics import accuracy_score\n",
    "import matplotlib.pyplot as plt\n",
    "from sklearn.tree import DecisionTreeClassifier\n",
    "\n",
    "np.random.seed(42)"
   ],
   "outputs": [],
   "execution_count": 1
  },
  {
   "cell_type": "markdown",
   "id": "8f877cca-f7d1-41ca-9d3d-28d587bec85c",
   "metadata": {},
   "source": [
    "# Design your algorithm\n",
    "\n",
    "### Overview\n",
    "Our implementation of AdaBoost follows the algorithm described in *\"The Elements of Statistical Learning\"* by Hastie, Tibshirani, and Friedman. AdaBoost is an ensemble method that combines multiple weak learners (e.g., decision stumps) to create a strong classifier.\n",
    "\n",
    "\n",
    "### **Design and Theoretical Considerations**\n",
    "\n",
    "1. **Initialization:**\n",
    "   - The sample weights $w_i$ are initialized uniformly:\n",
    "     $w_i = \\frac{1}{N}, \\quad i = 1, \\dots, N$\n",
    "     where $N$ is the number of training samples.\n",
    "\n",
    "2. **Iterative Boosting Steps:**\n",
    "   For $t = 1, \\dots, T$ (where $T$ is the number of iterations):\n",
    "   - Train a weak learner $G_t$ (in our case, a decision tree with `max_depth=1` by default. This is a hyperparameter like in sklearn's implementation).\n",
    "   - Compute the weighted classification error:\n",
    "     $\\text{error}_t = \\frac{\\sum_{i=1}^N w_i \\cdot I(y_i \\neq G_t(x_i))}{\\sum_{i=1}^N w_i}$\n",
    "     where $I$ is the indicator function.\n",
    "   - Calculate the weight of the weak learner (alpha):\n",
    "     $\\alpha_t = \\log\\left(\\frac{1 - \\text{error}_t}{\\text{error}_t}\\right)$\n",
    "   - Update the sample weights to focus more on misclassified samples:\n",
    "     $w_i \\leftarrow w_i \\cdot \\exp\\left(\\alpha_t \\cdot I(y_i \\neq G_t(x_i))\\right)$\n",
    "   - Normalize the weights so they sum to 1 to prevent numerical instability. This is one place where we deviate from the theoretical implementation as described in the book, and use practical tools for numerical stability, like in sklearn.\n",
    "\n",
    "3. **Final Prediction:**\n",
    "   The final model aggregates the predictions of all weak learners using their corresponding weights $\\alpha_t$:\n",
    "   $G(x) = \\text{sign}\\left(\\sum_{t=1}^T \\alpha_t \\cdot G_t(x)\\right)$\n",
    "\n",
    "\n",
    "### **Practical Implementation Details**\n",
    "- **Weak Learners:**\n",
    "  We use decision trees with `max_depth=1` (decision stumps) as our weak learners by default, but the depth can be adjusted using the `learning_depth` parameter.\n",
    "\n",
    "- **Hyperparameters:**\n",
    "  - **T (Number of Iterations):** Controls how many weak learners are combined. A larger $T$ can reduce bias but may increase overfitting.\n",
    "  - **Learning Depth:** The complexity of each weak learner. Stumps (depth=1) are simple but effective for most cases.\n",
    "\n",
    "- **Stopping Condition:**\n",
    "  If the weighted error of a weak learner is $\\geq 0.5$, the learner is skipped and the learning is finished, as its performance is no better than random guessing. This is the second place where we use practical tools for enhanced learning and follow sklearn implementation.\n",
    "\n",
    "\n",
    "### **Limitations**\n",
    "1. **Overfitting:**\n",
    "   If the number of iterations $T$ is too high, AdaBoost may overfit noisy or mislabeled data.\n",
    "2. **Weak Learners:**\n",
    "   AdaBoost relies on weak learners with error rates $< 0.5$. If the weak learners are too complex, it undermines AdaBoost's principle of \"boosting weak models.\"\n",
    "3. **Outliers:**\n",
    "   AdaBoost is sensitive to outliers, as it assigns higher weights to misclassified samples.\n",
    "\n",
    "\n",
    "### **Use-Cases**\n",
    "- Binary classification problems with structured data.\n",
    "- Applications where combining simple classifiers improves performance, highly useful for many usecases.\n",
    "\n",
    "\n",
    "### **Optimization Strategies**\n",
    "- **Weight Normalization:** We normalize the weights at each iteration to ensure numerical stability.\n",
    "- **Efficient Weak Learners:** Using `DecisionTreeClassifier` with `max_depth=1` ensures the weak learners are computationally efficient.\n",
    "\n",
    "\n",
    "### **Conclusion**\n",
    "Our implementation adheres strictly to the theoretical formulation of AdaBoost as outlined in *\"The Elements of Statistical Learning\"*. It captures the initialization, weight updates, and iterative boosting steps, providing a clear and robust design which optimized using the practical knowledge from sklearn library.\n"
   ]
  },
  {
   "cell_type": "markdown",
   "id": "2158ff2629daf2bb",
   "metadata": {
    "collapsed": false,
    "jupyter": {
     "outputs_hidden": false
    }
   },
   "source": "# Your implementations"
  },
  {
   "cell_type": "code",
   "id": "7b85d8f7447ebce0",
   "metadata": {
    "collapsed": false,
    "jupyter": {
     "outputs_hidden": false
    },
    "ExecuteTime": {
     "end_time": "2024-12-17T12:31:11.490994Z",
     "start_time": "2024-12-17T12:31:11.480987Z"
    }
   },
   "source": [
    "# Your code here\n",
    "# Part 1: Implementing AdaBoost\n",
    "class AdaBoostCustom:\n",
    "    def __init__(self, T):\n",
    "        self.T = T\n",
    "        self.alphas = []\n",
    "        self.models = []\n",
    "        # Note: You may add more attributes\n",
    "\n",
    "    def fit(self, X, y, learning_depth=1):\n",
    "        n_samples, n_features = X.shape\n",
    "        weights = np.ones(n_samples) / n_samples\n",
    "\n",
    "        for t in range(self.T):\n",
    "            model = DecisionTreeClassifier(max_depth=learning_depth)\n",
    "            model.fit(X, y, sample_weight=weights)\n",
    "            predictions = model.predict(X)\n",
    "\n",
    "            error = self.calculate_error(predictions, y, weights)\n",
    "            if error >= 0.5:\n",
    "                break\n",
    "\n",
    "            alpha = self.calculate_new_alpha(error)\n",
    "            weights = self.calculate_weights(weights, alpha, y, predictions)\n",
    "\n",
    "            self.models.append(model)\n",
    "            self.alphas.append(alpha)\n",
    "\n",
    "            # Print training error for the entire model\n",
    "            full_model_predictions = self.predict(X)\n",
    "            full_model_error = np.mean(full_model_predictions != y)\n",
    "            print(f\"Iteration {t+1}, Full Model Training Error: {full_model_error:.4f}\")\n",
    "    \n",
    "    def predict(self, X):  \n",
    "        final_predictions = np.zeros(X.shape[0])\n",
    "        for model, alpha in zip(self.models, self.alphas):\n",
    "            final_predictions += alpha * model.predict(X)\n",
    "        return np.sign(final_predictions)\n",
    "\n",
    "    @staticmethod\n",
    "    def calculate_error(predictions, y, weights):\n",
    "        return np.sum(weights * (predictions != y)) / np.sum(weights)\n",
    "\n",
    "    @staticmethod\n",
    "    def calculate_new_alpha(error):\n",
    "        return np.log((1 - error) / error)\n",
    "\n",
    "    @staticmethod\n",
    "    def calculate_weights(weights, alpha, y, predictions):\n",
    "        weights = weights * np.exp(alpha * (predictions != y))\n",
    "        return weights / np.sum(weights)"
   ],
   "outputs": [],
   "execution_count": 2
  },
  {
   "cell_type": "markdown",
   "id": "df24f179351fa008",
   "metadata": {
    "collapsed": false,
    "jupyter": {
     "outputs_hidden": false
    }
   },
   "source": [
    "# Generate Data\n",
    "We decided to work with sklearn's `make_classification` library, which allows generating classification data with varying complexities and correlations. We focus on binary classification settings and conducted four experiments on two different dataset configurations to demonstrate various aspects of the AdaBoost algorithm and to validate that our implementation is correct and functioning as expected.\n",
    "\n",
    "The first dataset contains a single feature and is designed to showcase the accuracy of our algorithm's implementation. Interestingly, we observed that boosting stumps struggles to perfectly fit the data (achieve 0 training error) because the lack of additional features prevents multiple stumps from better separating the data. We also compared our results with sklearn's AdaBoost implementation to ensure the correctness of our approach.\n",
    "\n",
    "The second dataset is more complex, consisting of 8 features, where 7 are informative and one is redundant. This configuration allowed us to analyze how AdaBoost handles complex data and how it improves the performance of weak learners.\n"
   ]
  },
  {
   "metadata": {},
   "cell_type": "markdown",
   "source": [
    "### Experiment 1\n",
    "For a warmup, let's generate data with only 1 feature. We would expect a single stump to provide a solid result."
   ],
   "id": "df01dc612347451b"
  },
  {
   "metadata": {
    "ExecuteTime": {
     "end_time": "2024-12-17T12:31:11.699258Z",
     "start_time": "2024-12-17T12:31:11.693020Z"
    }
   },
   "cell_type": "code",
   "source": [
    "# Generate simple synthetic data\n",
    "# Only 1 feature\n",
    "X, y = make_classification(n_samples=2000, n_features=1, n_informative=1, n_redundant=0, n_clusters_per_class=1, random_state=42)\n",
    "y = np.where(y == 0, -1, 1)  # Convert labels to {-1, 1}"
   ],
   "id": "dd7826791d3df802",
   "outputs": [],
   "execution_count": 3
  },
  {
   "metadata": {
    "ExecuteTime": {
     "end_time": "2024-12-17T12:31:11.714836Z",
     "start_time": "2024-12-17T12:31:11.710413Z"
    }
   },
   "cell_type": "code",
   "source": [
    "# Split the data into training and testing sets\n",
    "X_train, X_test, y_train, y_test = train_test_split(X, y, test_size=0.2, random_state=42)"
   ],
   "id": "2ddd7da47dc01c2f",
   "outputs": [],
   "execution_count": 4
  },
  {
   "metadata": {
    "ExecuteTime": {
     "end_time": "2024-12-17T12:31:11.972980Z",
     "start_time": "2024-12-17T12:31:11.730516Z"
    }
   },
   "cell_type": "code",
   "source": [
    "# Visualize data\n",
    "plt.figure(figsize=(10, 6))\n",
    "X_scatter = X_test\n",
    "Y_scater = y_test\n",
    "plt.scatter(X_scatter[Y_scater == -1], Y_scater[Y_scater == -1], color='b', label='y = -1')\n",
    "plt.scatter(X_scatter[Y_scater == 1], Y_scater[Y_scater == 1], color='r', label='y = 1')\n",
    "plt.xlabel('X')\n",
    "plt.ylabel('y')\n",
    "plt.legend()\n",
    "plt.title(\"Test data\")"
   ],
   "id": "be1bd5163ba52900",
   "outputs": [
    {
     "data": {
      "text/plain": [
       "Text(0.5, 1.0, 'Test data')"
      ]
     },
     "execution_count": 5,
     "metadata": {},
     "output_type": "execute_result"
    },
    {
     "data": {
      "text/plain": [
       "<Figure size 1000x600 with 1 Axes>"
      ],
      "image/png": "[encoded data removed]"
     },
     "metadata": {},
     "output_type": "display_data"
    }
   ],
   "execution_count": 5
  },
  {
   "metadata": {
    "ExecuteTime": {
     "end_time": "2024-12-17T12:31:12.227099Z",
     "start_time": "2024-12-17T12:31:11.992635Z"
    }
   },
   "cell_type": "code",
   "source": [
    "# Visualize data\n",
    "plt.figure(figsize=(10, 6))\n",
    "X_scatter = X_train\n",
    "Y_scater = y_train\n",
    "plt.scatter(X_scatter[Y_scater == -1], Y_scater[Y_scater == -1], color='b', label='y = -1')\n",
    "plt.scatter(X_scatter[Y_scater == 1], Y_scater[Y_scater == 1], color='r', label='y = 1')\n",
    "plt.xlabel('X')\n",
    "plt.ylabel('y')\n",
    "plt.legend()\n",
    "plt.title(\"Train data\")"
   ],
   "id": "e0e2ed2bed6bbb88",
   "outputs": [
    {
     "data": {
      "text/plain": [
       "Text(0.5, 1.0, 'Train data')"
      ]
     },
     "execution_count": 6,
     "metadata": {},
     "output_type": "execute_result"
    },
    {
     "data": {
      "text/plain": [
       "<Figure size 1000x600 with 1 Axes>"
      ],
      "image/png": "[encoded data removed]"
     },
     "metadata": {},
     "output_type": "display_data"
    }
   ],
   "execution_count": 6
  },
  {
   "metadata": {
    "ExecuteTime": {
     "end_time": "2024-12-17T12:31:12.522474Z",
     "start_time": "2024-12-17T12:31:12.247223Z"
    }
   },
   "cell_type": "code",
   "source": [
    "# Train and test AdaBoost\n",
    "custom_adaboost = AdaBoostCustom(T=50)\n",
    "custom_adaboost.fit(X_train, y_train, learning_depth=1)\n",
    "y_pred = custom_adaboost.predict(X_test)\n",
    "\n",
    "# Evaluate the model\n",
    "accuracy = accuracy_score(y_test, y_pred)\n",
    "print(f\"Test Accuracy: {accuracy:.4f}\")"
   ],
   "id": "5747cf25e678cd13",
   "outputs": [
    {
     "name": "stdout",
     "output_type": "stream",
     "text": [
      "Iteration 1, Full Model Training Error: 0.0306\n",
      "Iteration 2, Full Model Training Error: 0.0306\n",
      "Iteration 3, Full Model Training Error: 0.0306\n",
      "Iteration 4, Full Model Training Error: 0.0306\n",
      "Iteration 5, Full Model Training Error: 0.0306\n",
      "Iteration 6, Full Model Training Error: 0.0306\n",
      "Iteration 7, Full Model Training Error: 0.0306\n",
      "Iteration 8, Full Model Training Error: 0.0306\n",
      "Iteration 9, Full Model Training Error: 0.0306\n",
      "Iteration 10, Full Model Training Error: 0.0306\n",
      "Iteration 11, Full Model Training Error: 0.0306\n",
      "Iteration 12, Full Model Training Error: 0.0306\n",
      "Iteration 13, Full Model Training Error: 0.0306\n",
      "Iteration 14, Full Model Training Error: 0.0306\n",
      "Iteration 15, Full Model Training Error: 0.0306\n",
      "Iteration 16, Full Model Training Error: 0.0306\n",
      "Iteration 17, Full Model Training Error: 0.0306\n",
      "Iteration 18, Full Model Training Error: 0.0306\n",
      "Iteration 19, Full Model Training Error: 0.0306\n",
      "Iteration 20, Full Model Training Error: 0.0306\n",
      "Iteration 21, Full Model Training Error: 0.0306\n",
      "Iteration 22, Full Model Training Error: 0.0306\n",
      "Iteration 23, Full Model Training Error: 0.0306\n",
      "Iteration 24, Full Model Training Error: 0.0306\n",
      "Iteration 25, Full Model Training Error: 0.0306\n",
      "Iteration 26, Full Model Training Error: 0.0306\n",
      "Iteration 27, Full Model Training Error: 0.0306\n",
      "Iteration 28, Full Model Training Error: 0.0306\n",
      "Iteration 29, Full Model Training Error: 0.0306\n",
      "Iteration 30, Full Model Training Error: 0.0306\n",
      "Iteration 31, Full Model Training Error: 0.0306\n",
      "Iteration 32, Full Model Training Error: 0.0306\n",
      "Iteration 33, Full Model Training Error: 0.0306\n",
      "Iteration 34, Full Model Training Error: 0.0306\n",
      "Iteration 35, Full Model Training Error: 0.0306\n",
      "Iteration 36, Full Model Training Error: 0.0306\n",
      "Iteration 37, Full Model Training Error: 0.0306\n",
      "Iteration 38, Full Model Training Error: 0.0306\n",
      "Iteration 39, Full Model Training Error: 0.0306\n",
      "Iteration 40, Full Model Training Error: 0.0306\n",
      "Iteration 41, Full Model Training Error: 0.0306\n",
      "Iteration 42, Full Model Training Error: 0.0306\n",
      "Iteration 43, Full Model Training Error: 0.0306\n",
      "Iteration 44, Full Model Training Error: 0.0306\n",
      "Iteration 45, Full Model Training Error: 0.0306\n",
      "Iteration 46, Full Model Training Error: 0.0306\n",
      "Iteration 47, Full Model Training Error: 0.0306\n",
      "Iteration 48, Full Model Training Error: 0.0306\n",
      "Iteration 49, Full Model Training Error: 0.0306\n",
      "Iteration 50, Full Model Training Error: 0.0306\n",
      "Test Accuracy: 0.9850\n"
     ]
    }
   ],
   "execution_count": 7
  },
  {
   "metadata": {
    "ExecuteTime": {
     "end_time": "2024-12-17T12:31:12.641963Z",
     "start_time": "2024-12-17T12:31:12.542705Z"
    }
   },
   "cell_type": "code",
   "source": [
    "# Compare with sklearn's AdaBoost\n",
    "sklearn_adaboost = AdaBoostClassifier(estimator=DecisionTreeClassifier(max_depth=1), n_estimators=50, random_state=42, algorithm=\"SAMME\")\n",
    "sklearn_adaboost.fit(X_train, y_train)\n",
    "y_pred = sklearn_adaboost.predict(X_test)\n",
    "print(f\"Accuracy: {accuracy_score(y_test, y_pred):.4f}\")"
   ],
   "id": "567c3d62b412812d",
   "outputs": [
    {
     "name": "stdout",
     "output_type": "stream",
     "text": [
      "Accuracy: 0.9850\n"
     ]
    }
   ],
   "execution_count": 8
  },
  {
   "metadata": {
    "ExecuteTime": {
     "end_time": "2024-12-17T12:31:12.669904Z",
     "start_time": "2024-12-17T12:31:12.664778Z"
    }
   },
   "cell_type": "code",
   "source": [
    "# Observe sklearn adaboost's alphas\n",
    "sklearn_adaboost.estimator_weights_"
   ],
   "id": "bd82b7f19d30dda5",
   "outputs": [
    {
     "data": {
      "text/plain": [
       "array([3.45483487, 0.73909707, 0.69149328, 0.23681201, 0.31273112,\n",
       "       0.38290584, 0.28064931, 0.28187321, 0.20752194, 0.29682267,\n",
       "       0.25824999, 0.187532  , 0.16336836, 0.36210729, 0.29268633,\n",
       "       0.18477905, 0.0417905 , 0.04093503, 0.12118899, 0.20659845,\n",
       "       0.21254523, 0.14140258, 0.04044268, 0.03964098, 0.03887044,\n",
       "       0.0381293 , 0.0374159 , 0.0375447 , 0.0368528 , 0.03675413,\n",
       "       0.03609081, 0.03620997, 0.03556598, 0.03547386, 0.03485556,\n",
       "       0.03496611, 0.10486476, 0.09898051, 0.03506187, 0.03445773,\n",
       "       0.03387406, 0.03378121, 0.03322005, 0.03332854, 0.0327822 ,\n",
       "       0.03269509, 0.03216916, 0.03227045, 0.03175798, 0.03167611])"
      ]
     },
     "execution_count": 9,
     "metadata": {},
     "output_type": "execute_result"
    }
   ],
   "execution_count": 9
  },
  {
   "metadata": {
    "ExecuteTime": {
     "end_time": "2024-12-17T12:31:12.710205Z",
     "start_time": "2024-12-17T12:31:12.705326Z"
    }
   },
   "cell_type": "code",
   "source": [
    "# Observe custom adaboost's alphas\n",
    "custom_adaboost.alphas"
   ],
   "id": "76f52d64669a0f21",
   "outputs": [
    {
     "data": {
      "text/plain": [
       "[np.float64(3.4548348650659118),\n",
       " np.float64(0.7390970707518009),\n",
       " np.float64(0.6914932839957402),\n",
       " np.float64(0.23681201126741028),\n",
       " np.float64(0.3127311205859686),\n",
       " np.float64(0.38290583693348484),\n",
       " np.float64(0.2806493065815364),\n",
       " np.float64(0.2818732080539556),\n",
       " np.float64(0.2075219351630782),\n",
       " np.float64(0.29682267134647733),\n",
       " np.float64(0.2582499949367514),\n",
       " np.float64(0.1875320002925372),\n",
       " np.float64(0.16336835903732003),\n",
       " np.float64(0.36210729278829046),\n",
       " np.float64(0.2926863329723157),\n",
       " np.float64(0.18477904928672853),\n",
       " np.float64(0.04179049849799071),\n",
       " np.float64(0.04093502892210119),\n",
       " np.float64(0.12118898503276086),\n",
       " np.float64(0.20659844781205),\n",
       " np.float64(0.2125452269895821),\n",
       " np.float64(0.14140257534915682),\n",
       " np.float64(0.04044267568944844),\n",
       " np.float64(0.03964097504285486),\n",
       " np.float64(0.038870444941495025),\n",
       " np.float64(0.03812930194480958),\n",
       " np.float64(0.0374158961356564),\n",
       " np.float64(0.037544698109773615),\n",
       " np.float64(0.03685280462629672),\n",
       " np.float64(0.03675412571522878),\n",
       " np.float64(0.03609080932520729),\n",
       " np.float64(0.03620996952972597),\n",
       " np.float64(0.0355659789145465),\n",
       " np.float64(0.03547385549527051),\n",
       " np.float64(0.034855561220173616),\n",
       " np.float64(0.03496611399753986),\n",
       " np.float64(0.10486476116310792),\n",
       " np.float64(0.09898050596681275),\n",
       " np.float64(0.03506186505031631),\n",
       " np.float64(0.03445772812317944),\n",
       " np.float64(0.033874059782683576),\n",
       " np.float64(0.03378121083915869),\n",
       " np.float64(0.033220051580461735),\n",
       " np.float64(0.03332853785713487),\n",
       " np.float64(0.032782196773187285),\n",
       " np.float64(0.03269509377275332),\n",
       " np.float64(0.032169160813609494),\n",
       " np.float64(0.032270450796094904),\n",
       " np.float64(0.03175798478908127),\n",
       " np.float64(0.03167611316390368)]"
      ]
     },
     "execution_count": 10,
     "metadata": {},
     "output_type": "execute_result"
    }
   ],
   "execution_count": 10
  },
  {
   "metadata": {
    "ExecuteTime": {
     "end_time": "2024-12-17T12:31:12.744662Z",
     "start_time": "2024-12-17T12:31:12.740094Z"
    }
   },
   "cell_type": "code",
   "source": [
    "for i in range(len(custom_adaboost.models)):\n",
    "    print(custom_adaboost.models[i].tree_.threshold[0])"
   ],
   "id": "f559c4e4a2d749b5",
   "outputs": [
    {
     "name": "stdout",
     "output_type": "stream",
     "text": [
      "-0.5395399928092957\n",
      "-0.8126893937587738\n",
      "-0.8126893937587738\n",
      "-1.2197956442832947\n",
      "2.3324782848358154\n",
      "-0.19317543506622314\n",
      "2.3324782848358154\n",
      "-1.163835883140564\n",
      "1.5664371848106384\n",
      "-0.19317543506622314\n",
      "1.5664371848106384\n",
      "-0.9551257193088531\n",
      "-0.5408677160739899\n",
      "-0.19317543506622314\n",
      "-0.5408677160739899\n",
      "2.383428931236267\n",
      "2.383428931236267\n",
      "2.383428931236267\n",
      "2.3324782848358154\n",
      "-0.19317543506622314\n",
      "1.5664371848106384\n",
      "2.383428931236267\n",
      "2.383428931236267\n",
      "2.383428931236267\n",
      "2.383428931236267\n",
      "2.383428931236267\n",
      "-1.630308449268341\n",
      "-1.630308449268341\n",
      "2.383428931236267\n",
      "2.383428931236267\n",
      "-1.630308449268341\n",
      "-1.630308449268341\n",
      "2.383428931236267\n",
      "2.383428931236267\n",
      "-1.630308449268341\n",
      "-1.630308449268341\n",
      "2.3324782848358154\n",
      "2.383428931236267\n",
      "2.383428931236267\n",
      "2.383428931236267\n",
      "-1.630308449268341\n",
      "-1.630308449268341\n",
      "2.383428931236267\n",
      "2.383428931236267\n",
      "-1.630308449268341\n",
      "-1.630308449268341\n",
      "2.383428931236267\n",
      "2.383428931236267\n",
      "-1.630308449268341\n",
      "-1.630308449268341\n"
     ]
    }
   ],
   "execution_count": 11
  },
  {
   "metadata": {
    "ExecuteTime": {
     "end_time": "2024-12-17T12:31:12.793696Z",
     "start_time": "2024-12-17T12:31:12.785857Z"
    }
   },
   "cell_type": "code",
   "source": [
    "# Train a 1 depth decision tree\n",
    "stump = DecisionTreeClassifier(max_depth=1)\n",
    "stump.fit(X_train, y_train)\n",
    "y_pred = stump.predict(X_test)\n",
    "\n",
    "# Evaluate the model\n",
    "accuracy = accuracy_score(y_test, y_pred)\n",
    "print(f\"Test Accuracy: {accuracy:.4f}\")\n"
   ],
   "id": "f7e6f82e919f8ebb",
   "outputs": [
    {
     "name": "stdout",
     "output_type": "stream",
     "text": [
      "Test Accuracy: 0.9850\n"
     ]
    }
   ],
   "execution_count": 12
  },
  {
   "metadata": {
    "ExecuteTime": {
     "end_time": "2024-12-17T12:31:12.822226Z",
     "start_time": "2024-12-17T12:31:12.816076Z"
    }
   },
   "cell_type": "code",
   "source": [
    "# The stump threshold\n",
    "stump.tree_.threshold[0]"
   ],
   "id": "5e5fa909f05e7bc8",
   "outputs": [
    {
     "data": {
      "text/plain": [
       "np.float64(-0.5395399928092957)"
      ]
     },
     "execution_count": 13,
     "metadata": {},
     "output_type": "execute_result"
    }
   ],
   "execution_count": 13
  },
  {
   "cell_type": "markdown",
   "id": "74c4083f-5267-44d3-89ed-65864f82aa57",
   "metadata": {},
   "source": [
    "#### Key observations:\n",
    "1. **Single Stump Performance:**\n",
    "   The single stump provides competitive results compared to the AdaBoost model. This is expected since the data is simple and can be easily separated by a single decision boundary. Although AdaBoost can achieve 0 training error by combining multiple stumps, the single stump's performance suggests that the data is straightforward. Since there is only one feature, the stumps may struggle to improve upon the first stump's decision boundary. This limitation will be explored in the next experiment.\n",
    "\n",
    "2. **Sanity Check - Initial Stump Comparison:**\n",
    "   The stump's decision boundary is equal to the decision boundary of the first model used in the AdaBoost ensemble.\n",
    "\n",
    "3. **Sanity Check - Alpha Values:**\n",
    "   The alphas are all positive, as expected, since the training error of each weak learner is less than 0.5. The alpha values adjust according to the current iteration's error.\n",
    "\n",
    "4. **Decision Boundary Evolution:**\n",
    "   The decision boundaries of the stumps change throughout the AdaBoost process due to the adaptive weight adjustments applied to the training samples.\n",
    "\n",
    "5. **Overall Performance:**\n",
    "   Overall, the custom AdaBoost implementation seems to work well. We will further explore some interesting characteristics of the model in future experiments.\n",
    "\n",
    "6. **Comparison to sklearn's AdaBoost:**\n",
    "The custom AdaBoost implementation and sklearn's AdaBoost provide similar results, and similar alphas (estimator weights). We followed the implementation existing in  \"The Elements of Statistical Learning\" book, which is also implemented in sklearn. The results are as expected.\n"
   ]
  },
  {
   "metadata": {},
   "cell_type": "markdown",
   "source": [
    "### Experiment 2\n",
    "Let's explore what happens if we provide a stronger weak learner to that single feature data."
   ],
   "id": "fb77e87dd218c9b8"
  },
  {
   "metadata": {
    "ExecuteTime": {
     "end_time": "2024-12-17T12:31:13.461122Z",
     "start_time": "2024-12-17T12:31:12.846297Z"
    }
   },
   "cell_type": "code",
   "source": [
    "# Train and test AdaBoost\n",
    "custom_adaboost = AdaBoostCustom(T=70)\n",
    "custom_adaboost.fit(X_train, y_train, learning_depth=5) # The depth of the weak learners increased\n",
    "y_pred = custom_adaboost.predict(X_test)\n",
    "\n",
    "# Evaluate the model\n",
    "accuracy = accuracy_score(y_test, y_pred)\n",
    "print(f\"Test Accuracy: {accuracy:.4f}\")"
   ],
   "id": "dfc3122f79d1d6eb",
   "outputs": [
    {
     "name": "stdout",
     "output_type": "stream",
     "text": [
      "Iteration 1, Full Model Training Error: 0.0256\n",
      "Iteration 2, Full Model Training Error: 0.0256\n",
      "Iteration 3, Full Model Training Error: 0.0256\n",
      "Iteration 4, Full Model Training Error: 0.0231\n",
      "Iteration 5, Full Model Training Error: 0.0256\n",
      "Iteration 6, Full Model Training Error: 0.0269\n",
      "Iteration 7, Full Model Training Error: 0.0238\n",
      "Iteration 8, Full Model Training Error: 0.0250\n",
      "Iteration 9, Full Model Training Error: 0.0225\n",
      "Iteration 10, Full Model Training Error: 0.0225\n",
      "Iteration 11, Full Model Training Error: 0.0225\n",
      "Iteration 12, Full Model Training Error: 0.0200\n",
      "Iteration 13, Full Model Training Error: 0.0213\n",
      "Iteration 14, Full Model Training Error: 0.0206\n",
      "Iteration 15, Full Model Training Error: 0.0169\n",
      "Iteration 16, Full Model Training Error: 0.0169\n",
      "Iteration 17, Full Model Training Error: 0.0138\n",
      "Iteration 18, Full Model Training Error: 0.0156\n",
      "Iteration 19, Full Model Training Error: 0.0156\n",
      "Iteration 20, Full Model Training Error: 0.0131\n",
      "Iteration 21, Full Model Training Error: 0.0150\n",
      "Iteration 22, Full Model Training Error: 0.0081\n",
      "Iteration 23, Full Model Training Error: 0.0125\n",
      "Iteration 24, Full Model Training Error: 0.0063\n",
      "Iteration 25, Full Model Training Error: 0.0125\n",
      "Iteration 26, Full Model Training Error: 0.0050\n",
      "Iteration 27, Full Model Training Error: 0.0112\n",
      "Iteration 28, Full Model Training Error: 0.0088\n",
      "Iteration 29, Full Model Training Error: 0.0088\n",
      "Iteration 30, Full Model Training Error: 0.0063\n",
      "Iteration 31, Full Model Training Error: 0.0088\n",
      "Iteration 32, Full Model Training Error: 0.0037\n",
      "Iteration 33, Full Model Training Error: 0.0050\n",
      "Iteration 34, Full Model Training Error: 0.0025\n",
      "Iteration 35, Full Model Training Error: 0.0037\n",
      "Iteration 36, Full Model Training Error: 0.0006\n",
      "Iteration 37, Full Model Training Error: 0.0019\n",
      "Iteration 38, Full Model Training Error: 0.0006\n",
      "Iteration 39, Full Model Training Error: 0.0019\n",
      "Iteration 40, Full Model Training Error: 0.0006\n",
      "Iteration 41, Full Model Training Error: 0.0006\n",
      "Iteration 42, Full Model Training Error: 0.0006\n",
      "Iteration 43, Full Model Training Error: 0.0013\n",
      "Iteration 44, Full Model Training Error: 0.0006\n",
      "Iteration 45, Full Model Training Error: 0.0006\n",
      "Iteration 46, Full Model Training Error: 0.0006\n",
      "Iteration 47, Full Model Training Error: 0.0006\n",
      "Iteration 48, Full Model Training Error: 0.0006\n",
      "Iteration 49, Full Model Training Error: 0.0000\n",
      "Iteration 50, Full Model Training Error: 0.0006\n",
      "Iteration 51, Full Model Training Error: 0.0000\n",
      "Iteration 52, Full Model Training Error: 0.0006\n",
      "Iteration 53, Full Model Training Error: 0.0000\n",
      "Iteration 54, Full Model Training Error: 0.0000\n",
      "Iteration 55, Full Model Training Error: 0.0000\n",
      "Iteration 56, Full Model Training Error: 0.0000\n",
      "Iteration 57, Full Model Training Error: 0.0000\n",
      "Iteration 58, Full Model Training Error: 0.0000\n",
      "Iteration 59, Full Model Training Error: 0.0000\n",
      "Iteration 60, Full Model Training Error: 0.0000\n",
      "Iteration 61, Full Model Training Error: 0.0000\n",
      "Iteration 62, Full Model Training Error: 0.0000\n",
      "Iteration 63, Full Model Training Error: 0.0000\n",
      "Iteration 64, Full Model Training Error: 0.0000\n",
      "Iteration 65, Full Model Training Error: 0.0000\n",
      "Iteration 66, Full Model Training Error: 0.0000\n",
      "Iteration 67, Full Model Training Error: 0.0000\n",
      "Iteration 68, Full Model Training Error: 0.0000\n",
      "Iteration 69, Full Model Training Error: 0.0000\n",
      "Iteration 70, Full Model Training Error: 0.0000\n",
      "Test Accuracy: 0.9650\n"
     ]
    }
   ],
   "execution_count": 14
  },
  {
   "metadata": {
    "ExecuteTime": {
     "end_time": "2024-12-17T12:31:13.519478Z",
     "start_time": "2024-12-17T12:31:13.512500Z"
    }
   },
   "cell_type": "code",
   "source": "custom_adaboost.alphas",
   "id": "34d98898c7f01abc",
   "outputs": [
    {
     "data": {
      "text/plain": [
       "[np.float64(3.638227802353468),\n",
       " np.float64(1.7514928172494095),\n",
       " np.float64(1.583533596623304),\n",
       " np.float64(1.132854842642716),\n",
       " np.float64(1.1136277608278942),\n",
       " np.float64(0.8261779466405413),\n",
       " np.float64(0.7762219236351751),\n",
       " np.float64(0.7682098406476532),\n",
       " np.float64(0.7405086221995003),\n",
       " np.float64(0.6512412258053489),\n",
       " np.float64(0.8812219766843369),\n",
       " np.float64(0.5895432244429403),\n",
       " np.float64(0.42977850923209654),\n",
       " np.float64(0.4211951743907896),\n",
       " np.float64(0.5536091695191193),\n",
       " np.float64(0.6873843325163038),\n",
       " np.float64(0.5825569753634403),\n",
       " np.float64(0.4224954246475911),\n",
       " np.float64(0.4088976249591764),\n",
       " np.float64(0.5600140148516514),\n",
       " np.float64(0.5369809191805295),\n",
       " np.float64(0.40610057037590874),\n",
       " np.float64(0.4990712011829074),\n",
       " np.float64(0.440332526383097),\n",
       " np.float64(0.41729971869118776),\n",
       " np.float64(0.5173960869991865),\n",
       " np.float64(0.4167046238660069),\n",
       " np.float64(0.5008128487688238),\n",
       " np.float64(0.5321345656224533),\n",
       " np.float64(0.40521194946175576),\n",
       " np.float64(0.3962614807122861),\n",
       " np.float64(0.5640649706491603),\n",
       " np.float64(0.6974667380624936),\n",
       " np.float64(0.6381639886715692),\n",
       " np.float64(0.43598345682719786),\n",
       " np.float64(0.4907136042272164),\n",
       " np.float64(0.38129787109480073),\n",
       " np.float64(0.41397898008253026),\n",
       " np.float64(0.48957725392942114),\n",
       " np.float64(0.46162025477737517),\n",
       " np.float64(0.3866437764914479),\n",
       " np.float64(0.33857197958318214),\n",
       " np.float64(0.35403176994460395),\n",
       " np.float64(0.503142379903409),\n",
       " np.float64(0.4006468990862571),\n",
       " np.float64(0.24094125769168626),\n",
       " np.float64(0.34667602755775523),\n",
       " np.float64(0.47746750991048337),\n",
       " np.float64(0.3780697472445867),\n",
       " np.float64(0.4764586893702543),\n",
       " np.float64(0.4289218249038541),\n",
       " np.float64(0.38954614725136766),\n",
       " np.float64(0.38218215116010845),\n",
       " np.float64(0.501456578068383),\n",
       " np.float64(0.36368669209619703),\n",
       " np.float64(0.39039976081007727),\n",
       " np.float64(0.3608793670096536),\n",
       " np.float64(0.3548797957375217),\n",
       " np.float64(0.43704468916671246),\n",
       " np.float64(0.34648099389616077),\n",
       " np.float64(0.21802370345341437),\n",
       " np.float64(0.23838128820633345),\n",
       " np.float64(0.25331688381091844),\n",
       " np.float64(0.36896540478809997),\n",
       " np.float64(0.4884041074168017),\n",
       " np.float64(0.5739152989932519),\n",
       " np.float64(0.4354582543246011),\n",
       " np.float64(0.2787217895575038),\n",
       " np.float64(0.46400739241675987),\n",
       " np.float64(0.6652915077630076)]"
      ]
     },
     "execution_count": 15,
     "metadata": {},
     "output_type": "execute_result"
    }
   ],
   "execution_count": 15
  },
  {
   "metadata": {
    "ExecuteTime": {
     "end_time": "2024-12-17T12:31:13.557037Z",
     "start_time": "2024-12-17T12:31:13.551436Z"
    }
   },
   "cell_type": "code",
   "source": [
    "for i in range(5):\n",
    "    print(custom_adaboost.models[0].tree_.threshold[i])"
   ],
   "id": "5e5386d33219247c",
   "outputs": [
    {
     "name": "stdout",
     "output_type": "stream",
     "text": [
      "-0.5395399928092957\n",
      "-0.6832429468631744\n",
      "-1.630308449268341\n",
      "-2.0\n",
      "-0.8126893937587738\n"
     ]
    }
   ],
   "execution_count": 16
  },
  {
   "metadata": {
    "ExecuteTime": {
     "end_time": "2024-12-17T12:31:13.607137Z",
     "start_time": "2024-12-17T12:31:13.597863Z"
    }
   },
   "cell_type": "code",
   "source": [
    "# Train a 1 depth decision tree\n",
    "decision_tree = DecisionTreeClassifier(max_depth=5)\n",
    "decision_tree.fit(X_train, y_train)\n",
    "y_pred = decision_tree.predict(X_test)\n",
    "\n",
    "# Evaluate the model\n",
    "accuracy = accuracy_score(y_test, y_pred)\n",
    "print(f\"Test Accuracy: {accuracy:.4f}\")"
   ],
   "id": "175dbd72c2806879",
   "outputs": [
    {
     "name": "stdout",
     "output_type": "stream",
     "text": [
      "Test Accuracy: 0.9775\n"
     ]
    }
   ],
   "execution_count": 17
  },
  {
   "metadata": {
    "ExecuteTime": {
     "end_time": "2024-12-17T12:31:13.778601Z",
     "start_time": "2024-12-17T12:31:13.773820Z"
    }
   },
   "cell_type": "code",
   "source": [
    "for i in range(5):\n",
    "    print(decision_tree.tree_.threshold[i])"
   ],
   "id": "40c2b47cf496e63d",
   "outputs": [
    {
     "name": "stdout",
     "output_type": "stream",
     "text": [
      "-0.5395399928092957\n",
      "-0.6832429468631744\n",
      "-1.630308449268341\n",
      "-2.0\n",
      "-0.8126893937587738\n"
     ]
    }
   ],
   "execution_count": 18
  },
  {
   "metadata": {},
   "cell_type": "markdown",
   "source": [
    "#### Key observations:\n",
    "1. **Zero Training Error:**\n",
    "   As expected, we achieved zero training error by strengthening the weak learner.\n",
    "\n",
    "2. **Sanity Check - Alpha Values:**\n",
    "   The alpha values are still being updated correctly.\n",
    "\n",
    "3. **Decision Boundary Evolution:**\n",
    "   The first weak learner in the AdaBoost model is identical to the 5-depth custom decision tree, as expected.\n",
    "\n",
    "4. **Overfitting:**\n",
    "   Strengthening the weak learner resulted in worse performance for AdaBoost compared to the single custom decision tree, indicating that the model overfitted the training data, as expected.\n"
   ],
   "id": "9dd24606fea43dce"
  },
  {
   "metadata": {},
   "cell_type": "markdown",
   "source": [
    "### Experiment 3\n",
    "Let's go wild with the number of features and see how AdaBoost performs. We would expect now that the boosted stumps to perform much better compared to a single decision tree."
   ],
   "id": "3b90bda8b0e7816b"
  },
  {
   "metadata": {
    "ExecuteTime": {
     "end_time": "2024-12-17T12:31:13.811185Z",
     "start_time": "2024-12-17T12:31:13.804954Z"
    }
   },
   "cell_type": "code",
   "source": [
    "# Generate simple synthetic data\n",
    "# 8 Features that 7 of them are informative and one redundant (The redundant are generated as random linear combinations of the informative features.)\n",
    "X, y = make_classification(n_samples=2000, n_features=8, n_informative=7, n_redundant=1, n_clusters_per_class=1, random_state=42)\n",
    "y = np.where(y == 0, -1, 1)  # Convert labels to {-1, 1}# Generate simple synthetic data"
   ],
   "id": "4997924972243b46",
   "outputs": [],
   "execution_count": 19
  },
  {
   "metadata": {
    "ExecuteTime": {
     "end_time": "2024-12-17T12:31:13.839152Z",
     "start_time": "2024-12-17T12:31:13.831296Z"
    }
   },
   "cell_type": "code",
   "source": [
    "# Split the data into training and testing sets\n",
    "X_train, X_test, y_train, y_test = train_test_split(X, y, test_size=0.2, random_state=42)"
   ],
   "id": "b96f6b232b2a3967",
   "outputs": [],
   "execution_count": 20
  },
  {
   "metadata": {
    "ExecuteTime": {
     "end_time": "2024-12-17T12:31:14.272860Z",
     "start_time": "2024-12-17T12:31:13.855201Z"
    }
   },
   "cell_type": "code",
   "source": [
    "# Train and test AdaBoost\n",
    "custom_adaboost = AdaBoostCustom(T=50)\n",
    "custom_adaboost.fit(X_train, y_train, learning_depth=1)\n",
    "y_pred = custom_adaboost.predict(X_test)\n",
    "\n",
    "# Evaluate the model\n",
    "accuracy = accuracy_score(y_test, y_pred)\n",
    "print(f\"Test Accuracy: {accuracy:.4f}\")"
   ],
   "id": "e285791156878b26",
   "outputs": [
    {
     "name": "stdout",
     "output_type": "stream",
     "text": [
      "Iteration 1, Full Model Training Error: 0.2025\n",
      "Iteration 2, Full Model Training Error: 0.2238\n",
      "Iteration 3, Full Model Training Error: 0.1044\n",
      "Iteration 4, Full Model Training Error: 0.1025\n",
      "Iteration 5, Full Model Training Error: 0.0556\n",
      "Iteration 6, Full Model Training Error: 0.1044\n",
      "Iteration 7, Full Model Training Error: 0.0431\n",
      "Iteration 8, Full Model Training Error: 0.0912\n",
      "Iteration 9, Full Model Training Error: 0.0506\n",
      "Iteration 10, Full Model Training Error: 0.0494\n",
      "Iteration 11, Full Model Training Error: 0.0525\n",
      "Iteration 12, Full Model Training Error: 0.0531\n",
      "Iteration 13, Full Model Training Error: 0.0481\n",
      "Iteration 14, Full Model Training Error: 0.0475\n",
      "Iteration 15, Full Model Training Error: 0.0512\n",
      "Iteration 16, Full Model Training Error: 0.0525\n",
      "Iteration 17, Full Model Training Error: 0.0362\n",
      "Iteration 18, Full Model Training Error: 0.0556\n",
      "Iteration 19, Full Model Training Error: 0.0419\n",
      "Iteration 20, Full Model Training Error: 0.0512\n",
      "Iteration 21, Full Model Training Error: 0.0419\n",
      "Iteration 22, Full Model Training Error: 0.0394\n",
      "Iteration 23, Full Model Training Error: 0.0450\n",
      "Iteration 24, Full Model Training Error: 0.0381\n",
      "Iteration 25, Full Model Training Error: 0.0431\n",
      "Iteration 26, Full Model Training Error: 0.0369\n",
      "Iteration 27, Full Model Training Error: 0.0444\n",
      "Iteration 28, Full Model Training Error: 0.0387\n",
      "Iteration 29, Full Model Training Error: 0.0444\n",
      "Iteration 30, Full Model Training Error: 0.0381\n",
      "Iteration 31, Full Model Training Error: 0.0437\n",
      "Iteration 32, Full Model Training Error: 0.0350\n",
      "Iteration 33, Full Model Training Error: 0.0437\n",
      "Iteration 34, Full Model Training Error: 0.0350\n",
      "Iteration 35, Full Model Training Error: 0.0444\n",
      "Iteration 36, Full Model Training Error: 0.0425\n",
      "Iteration 37, Full Model Training Error: 0.0350\n",
      "Iteration 38, Full Model Training Error: 0.0387\n",
      "Iteration 39, Full Model Training Error: 0.0344\n",
      "Iteration 40, Full Model Training Error: 0.0400\n",
      "Iteration 41, Full Model Training Error: 0.0375\n",
      "Iteration 42, Full Model Training Error: 0.0344\n",
      "Iteration 43, Full Model Training Error: 0.0375\n",
      "Iteration 44, Full Model Training Error: 0.0338\n",
      "Iteration 45, Full Model Training Error: 0.0381\n",
      "Iteration 46, Full Model Training Error: 0.0362\n",
      "Iteration 47, Full Model Training Error: 0.0344\n",
      "Iteration 48, Full Model Training Error: 0.0356\n",
      "Iteration 49, Full Model Training Error: 0.0319\n",
      "Iteration 50, Full Model Training Error: 0.0331\n",
      "Test Accuracy: 0.9600\n"
     ]
    }
   ],
   "execution_count": 21
  },
  {
   "metadata": {
    "ExecuteTime": {
     "end_time": "2024-12-17T12:31:14.300564Z",
     "start_time": "2024-12-17T12:31:14.290749Z"
    }
   },
   "cell_type": "code",
   "source": [
    "# Train a 1 depth decision tree\n",
    "stump = DecisionTreeClassifier(max_depth=1)\n",
    "stump.fit(X_train, y_train)\n",
    "y_pred = stump.predict(X_test)\n",
    "\n",
    "# Evaluate the model\n",
    "accuracy = accuracy_score(y_test, y_pred)\n",
    "print(f\"Test Accuracy: {accuracy:.4f}\")"
   ],
   "id": "106912c3d3f06eef",
   "outputs": [
    {
     "name": "stdout",
     "output_type": "stream",
     "text": [
      "Test Accuracy: 0.7700\n"
     ]
    }
   ],
   "execution_count": 22
  },
  {
   "metadata": {
    "ExecuteTime": {
     "end_time": "2024-12-17T12:31:14.333109Z",
     "start_time": "2024-12-17T12:31:14.316812Z"
    }
   },
   "cell_type": "code",
   "source": [
    "# Train a 6 depth decision tree\n",
    "decision_tree = DecisionTreeClassifier(max_depth=5)\n",
    "decision_tree.fit(X_train, y_train)\n",
    "y_pred = decision_tree.predict(X_test)\n",
    "\n",
    "# Evaluate the model\n",
    "accuracy = accuracy_score(y_test, y_pred)\n",
    "print(f\"Test Accuracy: {accuracy:.4f}\")"
   ],
   "id": "23c7dcb45922cc33",
   "outputs": [
    {
     "name": "stdout",
     "output_type": "stream",
     "text": [
      "Test Accuracy: 0.9625\n"
     ]
    }
   ],
   "execution_count": 23
  },
  {
   "metadata": {},
   "cell_type": "markdown",
   "source": [
    "#### Key observations:\n",
    "1. **Decreasing Training Error:**\n",
    "   As expected, we now see an effective learning process where AdaBoost is able to reduce the training error significantly.\n",
    "\n",
    "2. **Better performance:**\n",
    "   The adaboost with stump as weak learners performs much better that just a single stump\n",
    "\n",
    "3. **Comparison to a deeper decision tree:**\n",
    "   We can observe that a 5-depth decision tree is competitive to the adaboost model (or even outperforming) made of stumps as weak learner. This will be explored further.\n",
    "\n",
    "4. **Overall:** The learning process and results seems reasonable and as expected.\n"
   ],
   "id": "bb94f6971f344aa"
  },
  {
   "metadata": {},
   "cell_type": "markdown",
   "source": [
    "### Experiment 4\n",
    "Let's see what happens as we increase the depth of the weak learners."
   ],
   "id": "1b8c32802a4ff3c2"
  },
  {
   "metadata": {
    "ExecuteTime": {
     "end_time": "2024-12-17T12:31:14.859154Z",
     "start_time": "2024-12-17T12:31:14.352946Z"
    }
   },
   "cell_type": "code",
   "source": [
    "# Train and test AdaBoost\n",
    "custom_adaboost = AdaBoostCustom(T=50)\n",
    "custom_adaboost.fit(X_train, y_train, learning_depth=2)\n",
    "y_pred = custom_adaboost.predict(X_test)\n",
    "\n",
    "# Evaluate the model\n",
    "accuracy = accuracy_score(y_test, y_pred)\n",
    "print(f\"Test Accuracy: {accuracy:.4f}\")"
   ],
   "id": "6556b68e3fb59e04",
   "outputs": [
    {
     "name": "stdout",
     "output_type": "stream",
     "text": [
      "Iteration 1, Full Model Training Error: 0.0831\n",
      "Iteration 2, Full Model Training Error: 0.0831\n",
      "Iteration 3, Full Model Training Error: 0.0350\n",
      "Iteration 4, Full Model Training Error: 0.0350\n",
      "Iteration 5, Full Model Training Error: 0.0406\n",
      "Iteration 6, Full Model Training Error: 0.0331\n",
      "Iteration 7, Full Model Training Error: 0.0338\n",
      "Iteration 8, Full Model Training Error: 0.0312\n",
      "Iteration 9, Full Model Training Error: 0.0300\n",
      "Iteration 10, Full Model Training Error: 0.0344\n",
      "Iteration 11, Full Model Training Error: 0.0269\n",
      "Iteration 12, Full Model Training Error: 0.0269\n",
      "Iteration 13, Full Model Training Error: 0.0194\n",
      "Iteration 14, Full Model Training Error: 0.0231\n",
      "Iteration 15, Full Model Training Error: 0.0231\n",
      "Iteration 16, Full Model Training Error: 0.0200\n",
      "Iteration 17, Full Model Training Error: 0.0169\n",
      "Iteration 18, Full Model Training Error: 0.0181\n",
      "Iteration 19, Full Model Training Error: 0.0163\n",
      "Iteration 20, Full Model Training Error: 0.0187\n",
      "Iteration 21, Full Model Training Error: 0.0150\n",
      "Iteration 22, Full Model Training Error: 0.0150\n",
      "Iteration 23, Full Model Training Error: 0.0138\n",
      "Iteration 24, Full Model Training Error: 0.0138\n",
      "Iteration 25, Full Model Training Error: 0.0131\n",
      "Iteration 26, Full Model Training Error: 0.0144\n",
      "Iteration 27, Full Model Training Error: 0.0125\n",
      "Iteration 28, Full Model Training Error: 0.0131\n",
      "Iteration 29, Full Model Training Error: 0.0131\n",
      "Iteration 30, Full Model Training Error: 0.0131\n",
      "Iteration 31, Full Model Training Error: 0.0125\n",
      "Iteration 32, Full Model Training Error: 0.0138\n",
      "Iteration 33, Full Model Training Error: 0.0119\n",
      "Iteration 34, Full Model Training Error: 0.0119\n",
      "Iteration 35, Full Model Training Error: 0.0094\n",
      "Iteration 36, Full Model Training Error: 0.0094\n",
      "Iteration 37, Full Model Training Error: 0.0106\n",
      "Iteration 38, Full Model Training Error: 0.0081\n",
      "Iteration 39, Full Model Training Error: 0.0094\n",
      "Iteration 40, Full Model Training Error: 0.0100\n",
      "Iteration 41, Full Model Training Error: 0.0075\n",
      "Iteration 42, Full Model Training Error: 0.0094\n",
      "Iteration 43, Full Model Training Error: 0.0075\n",
      "Iteration 44, Full Model Training Error: 0.0069\n",
      "Iteration 45, Full Model Training Error: 0.0063\n",
      "Iteration 46, Full Model Training Error: 0.0069\n",
      "Iteration 47, Full Model Training Error: 0.0063\n",
      "Iteration 48, Full Model Training Error: 0.0056\n",
      "Iteration 49, Full Model Training Error: 0.0044\n",
      "Iteration 50, Full Model Training Error: 0.0031\n",
      "Test Accuracy: 0.9775\n"
     ]
    }
   ],
   "execution_count": 24
  },
  {
   "metadata": {
    "ExecuteTime": {
     "end_time": "2024-12-17T12:31:14.880108Z",
     "start_time": "2024-12-17T12:31:14.875857Z"
    }
   },
   "cell_type": "code",
   "source": [
    "# Save the alphas of depth-2 adaboost for later comparison with sklearn's adaboost\n",
    "custom_adaboost_depth2_alphas = custom_adaboost.alphas"
   ],
   "id": "3d8d99b13a1d7e53",
   "outputs": [],
   "execution_count": 25
  },
  {
   "metadata": {
    "ExecuteTime": {
     "end_time": "2024-12-17T12:31:15.541096Z",
     "start_time": "2024-12-17T12:31:14.898552Z"
    }
   },
   "cell_type": "code",
   "source": [
    "# Train and test AdaBoost\n",
    "custom_adaboost = AdaBoostCustom(T=50)\n",
    "custom_adaboost.fit(X_train, y_train, learning_depth=3)\n",
    "y_pred = custom_adaboost.predict(X_test)\n",
    "\n",
    "# Evaluate the model\n",
    "accuracy = accuracy_score(y_test, y_pred)\n",
    "print(f\"Test Accuracy: {accuracy:.4f}\")"
   ],
   "id": "917ff52c759651d6",
   "outputs": [
    {
     "name": "stdout",
     "output_type": "stream",
     "text": [
      "Iteration 1, Full Model Training Error: 0.0369\n",
      "Iteration 2, Full Model Training Error: 0.0369\n",
      "Iteration 3, Full Model Training Error: 0.0369\n",
      "Iteration 4, Full Model Training Error: 0.0244\n",
      "Iteration 5, Full Model Training Error: 0.0244\n",
      "Iteration 6, Full Model Training Error: 0.0131\n",
      "Iteration 7, Full Model Training Error: 0.0181\n",
      "Iteration 8, Full Model Training Error: 0.0088\n",
      "Iteration 9, Full Model Training Error: 0.0131\n",
      "Iteration 10, Full Model Training Error: 0.0112\n",
      "Iteration 11, Full Model Training Error: 0.0106\n",
      "Iteration 12, Full Model Training Error: 0.0094\n",
      "Iteration 13, Full Model Training Error: 0.0056\n",
      "Iteration 14, Full Model Training Error: 0.0056\n",
      "Iteration 15, Full Model Training Error: 0.0044\n",
      "Iteration 16, Full Model Training Error: 0.0037\n",
      "Iteration 17, Full Model Training Error: 0.0019\n",
      "Iteration 18, Full Model Training Error: 0.0013\n",
      "Iteration 19, Full Model Training Error: 0.0000\n",
      "Iteration 20, Full Model Training Error: 0.0006\n",
      "Iteration 21, Full Model Training Error: 0.0006\n",
      "Iteration 22, Full Model Training Error: 0.0000\n",
      "Iteration 23, Full Model Training Error: 0.0006\n",
      "Iteration 24, Full Model Training Error: 0.0000\n",
      "Iteration 25, Full Model Training Error: 0.0000\n",
      "Iteration 26, Full Model Training Error: 0.0000\n",
      "Iteration 27, Full Model Training Error: 0.0000\n",
      "Iteration 28, Full Model Training Error: 0.0000\n",
      "Iteration 29, Full Model Training Error: 0.0000\n",
      "Iteration 30, Full Model Training Error: 0.0000\n",
      "Iteration 31, Full Model Training Error: 0.0000\n",
      "Iteration 32, Full Model Training Error: 0.0000\n",
      "Iteration 33, Full Model Training Error: 0.0000\n",
      "Iteration 34, Full Model Training Error: 0.0000\n",
      "Iteration 35, Full Model Training Error: 0.0000\n",
      "Iteration 36, Full Model Training Error: 0.0000\n",
      "Iteration 37, Full Model Training Error: 0.0000\n",
      "Iteration 38, Full Model Training Error: 0.0000\n",
      "Iteration 39, Full Model Training Error: 0.0000\n",
      "Iteration 40, Full Model Training Error: 0.0000\n",
      "Iteration 41, Full Model Training Error: 0.0000\n",
      "Iteration 42, Full Model Training Error: 0.0000\n",
      "Iteration 43, Full Model Training Error: 0.0000\n",
      "Iteration 44, Full Model Training Error: 0.0000\n",
      "Iteration 45, Full Model Training Error: 0.0000\n",
      "Iteration 46, Full Model Training Error: 0.0000\n",
      "Iteration 47, Full Model Training Error: 0.0000\n",
      "Iteration 48, Full Model Training Error: 0.0000\n",
      "Iteration 49, Full Model Training Error: 0.0000\n",
      "Iteration 50, Full Model Training Error: 0.0000\n",
      "Test Accuracy: 0.9775\n"
     ]
    }
   ],
   "execution_count": 26
  },
  {
   "metadata": {
    "ExecuteTime": {
     "end_time": "2024-12-17T12:31:16.296449Z",
     "start_time": "2024-12-17T12:31:15.579125Z"
    }
   },
   "cell_type": "code",
   "source": [
    "# Train and test AdaBoost\n",
    "custom_adaboost = AdaBoostCustom(T=50)\n",
    "custom_adaboost.fit(X_train, y_train, learning_depth=4)\n",
    "y_pred = custom_adaboost.predict(X_test)\n",
    "\n",
    "# Evaluate the model\n",
    "accuracy = accuracy_score(y_test, y_pred)\n",
    "print(f\"Test Accuracy: {accuracy:.4f}\")"
   ],
   "id": "8e50ae15b6031f5",
   "outputs": [
    {
     "name": "stdout",
     "output_type": "stream",
     "text": [
      "Iteration 1, Full Model Training Error: 0.0275\n",
      "Iteration 2, Full Model Training Error: 0.0275\n",
      "Iteration 3, Full Model Training Error: 0.0219\n",
      "Iteration 4, Full Model Training Error: 0.0181\n",
      "Iteration 5, Full Model Training Error: 0.0106\n",
      "Iteration 6, Full Model Training Error: 0.0081\n",
      "Iteration 7, Full Model Training Error: 0.0019\n",
      "Iteration 8, Full Model Training Error: 0.0037\n",
      "Iteration 9, Full Model Training Error: 0.0000\n",
      "Iteration 10, Full Model Training Error: 0.0013\n",
      "Iteration 11, Full Model Training Error: 0.0000\n",
      "Iteration 12, Full Model Training Error: 0.0000\n",
      "Iteration 13, Full Model Training Error: 0.0000\n",
      "Iteration 14, Full Model Training Error: 0.0000\n",
      "Iteration 15, Full Model Training Error: 0.0000\n",
      "Iteration 16, Full Model Training Error: 0.0000\n",
      "Iteration 17, Full Model Training Error: 0.0000\n",
      "Iteration 18, Full Model Training Error: 0.0000\n",
      "Iteration 19, Full Model Training Error: 0.0000\n",
      "Iteration 20, Full Model Training Error: 0.0000\n",
      "Iteration 21, Full Model Training Error: 0.0000\n",
      "Iteration 22, Full Model Training Error: 0.0000\n",
      "Iteration 23, Full Model Training Error: 0.0000\n",
      "Iteration 24, Full Model Training Error: 0.0000\n",
      "Iteration 25, Full Model Training Error: 0.0000\n",
      "Iteration 26, Full Model Training Error: 0.0000\n",
      "Iteration 27, Full Model Training Error: 0.0000\n",
      "Iteration 28, Full Model Training Error: 0.0000\n",
      "Iteration 29, Full Model Training Error: 0.0000\n",
      "Iteration 30, Full Model Training Error: 0.0000\n",
      "Iteration 31, Full Model Training Error: 0.0000\n",
      "Iteration 32, Full Model Training Error: 0.0000\n",
      "Iteration 33, Full Model Training Error: 0.0000\n",
      "Iteration 34, Full Model Training Error: 0.0000\n",
      "Iteration 35, Full Model Training Error: 0.0000\n",
      "Iteration 36, Full Model Training Error: 0.0000\n",
      "Iteration 37, Full Model Training Error: 0.0000\n",
      "Iteration 38, Full Model Training Error: 0.0000\n",
      "Iteration 39, Full Model Training Error: 0.0000\n",
      "Iteration 40, Full Model Training Error: 0.0000\n",
      "Iteration 41, Full Model Training Error: 0.0000\n",
      "Iteration 42, Full Model Training Error: 0.0000\n",
      "Iteration 43, Full Model Training Error: 0.0000\n",
      "Iteration 44, Full Model Training Error: 0.0000\n",
      "Iteration 45, Full Model Training Error: 0.0000\n",
      "Iteration 46, Full Model Training Error: 0.0000\n",
      "Iteration 47, Full Model Training Error: 0.0000\n",
      "Iteration 48, Full Model Training Error: 0.0000\n",
      "Iteration 49, Full Model Training Error: 0.0000\n",
      "Iteration 50, Full Model Training Error: 0.0000\n",
      "Test Accuracy: 0.9800\n"
     ]
    }
   ],
   "execution_count": 27
  },
  {
   "metadata": {
    "ExecuteTime": {
     "end_time": "2024-12-17T12:31:17.121712Z",
     "start_time": "2024-12-17T12:31:16.303666Z"
    }
   },
   "cell_type": "code",
   "source": [
    "# Train and test AdaBoost\n",
    "custom_adaboost = AdaBoostCustom(T=50)\n",
    "custom_adaboost.fit(X_train, y_train, learning_depth=5)\n",
    "y_pred = custom_adaboost.predict(X_test)\n",
    "\n",
    "# Evaluate the model\n",
    "accuracy = accuracy_score(y_test, y_pred)\n",
    "print(f\"Test Accuracy: {accuracy:.4f}\")"
   ],
   "id": "61101c5ed7e9d2c3",
   "outputs": [
    {
     "name": "stdout",
     "output_type": "stream",
     "text": [
      "Iteration 1, Full Model Training Error: 0.0219\n",
      "Iteration 2, Full Model Training Error: 0.0219\n",
      "Iteration 3, Full Model Training Error: 0.0044\n",
      "Iteration 4, Full Model Training Error: 0.0063\n",
      "Iteration 5, Full Model Training Error: 0.0019\n",
      "Iteration 6, Full Model Training Error: 0.0000\n",
      "Iteration 7, Full Model Training Error: 0.0000\n",
      "Iteration 8, Full Model Training Error: 0.0000\n",
      "Iteration 9, Full Model Training Error: 0.0000\n",
      "Iteration 10, Full Model Training Error: 0.0000\n",
      "Iteration 11, Full Model Training Error: 0.0000\n",
      "Iteration 12, Full Model Training Error: 0.0000\n",
      "Iteration 13, Full Model Training Error: 0.0000\n",
      "Iteration 14, Full Model Training Error: 0.0000\n",
      "Iteration 15, Full Model Training Error: 0.0000\n",
      "Iteration 16, Full Model Training Error: 0.0000\n",
      "Iteration 17, Full Model Training Error: 0.0000\n",
      "Iteration 18, Full Model Training Error: 0.0000\n",
      "Iteration 19, Full Model Training Error: 0.0000\n",
      "Iteration 20, Full Model Training Error: 0.0000\n",
      "Iteration 21, Full Model Training Error: 0.0000\n",
      "Iteration 22, Full Model Training Error: 0.0000\n",
      "Iteration 23, Full Model Training Error: 0.0000\n",
      "Iteration 24, Full Model Training Error: 0.0000\n",
      "Iteration 25, Full Model Training Error: 0.0000\n",
      "Iteration 26, Full Model Training Error: 0.0000\n",
      "Iteration 27, Full Model Training Error: 0.0000\n",
      "Iteration 28, Full Model Training Error: 0.0000\n",
      "Iteration 29, Full Model Training Error: 0.0000\n",
      "Iteration 30, Full Model Training Error: 0.0000\n",
      "Iteration 31, Full Model Training Error: 0.0000\n",
      "Iteration 32, Full Model Training Error: 0.0000\n",
      "Iteration 33, Full Model Training Error: 0.0000\n",
      "Iteration 34, Full Model Training Error: 0.0000\n",
      "Iteration 35, Full Model Training Error: 0.0000\n",
      "Iteration 36, Full Model Training Error: 0.0000\n",
      "Iteration 37, Full Model Training Error: 0.0000\n",
      "Iteration 38, Full Model Training Error: 0.0000\n",
      "Iteration 39, Full Model Training Error: 0.0000\n",
      "Iteration 40, Full Model Training Error: 0.0000\n",
      "Iteration 41, Full Model Training Error: 0.0000\n",
      "Iteration 42, Full Model Training Error: 0.0000\n",
      "Iteration 43, Full Model Training Error: 0.0000\n",
      "Iteration 44, Full Model Training Error: 0.0000\n",
      "Iteration 45, Full Model Training Error: 0.0000\n",
      "Iteration 46, Full Model Training Error: 0.0000\n",
      "Iteration 47, Full Model Training Error: 0.0000\n",
      "Iteration 48, Full Model Training Error: 0.0000\n",
      "Iteration 49, Full Model Training Error: 0.0000\n",
      "Iteration 50, Full Model Training Error: 0.0000\n",
      "Test Accuracy: 0.9775\n"
     ]
    }
   ],
   "execution_count": 28
  },
  {
   "metadata": {
    "ExecuteTime": {
     "end_time": "2024-12-17T12:31:18.083664Z",
     "start_time": "2024-12-17T12:31:17.140431Z"
    }
   },
   "cell_type": "code",
   "source": [
    "# Train and test AdaBoost\n",
    "custom_adaboost = AdaBoostCustom(T=50)\n",
    "custom_adaboost.fit(X_train, y_train, learning_depth=6)\n",
    "y_pred = custom_adaboost.predict(X_test)\n",
    "\n",
    "# Evaluate the model\n",
    "accuracy = accuracy_score(y_test, y_pred)\n",
    "print(f\"Test Accuracy: {accuracy:.4f}\")"
   ],
   "id": "b77756a28ca265bd",
   "outputs": [
    {
     "name": "stdout",
     "output_type": "stream",
     "text": [
      "Iteration 1, Full Model Training Error: 0.0119\n",
      "Iteration 2, Full Model Training Error: 0.0119\n",
      "Iteration 3, Full Model Training Error: 0.0031\n",
      "Iteration 4, Full Model Training Error: 0.0019\n",
      "Iteration 5, Full Model Training Error: 0.0000\n",
      "Iteration 6, Full Model Training Error: 0.0000\n",
      "Iteration 7, Full Model Training Error: 0.0000\n",
      "Iteration 8, Full Model Training Error: 0.0000\n",
      "Iteration 9, Full Model Training Error: 0.0000\n",
      "Iteration 10, Full Model Training Error: 0.0000\n",
      "Iteration 11, Full Model Training Error: 0.0000\n",
      "Iteration 12, Full Model Training Error: 0.0000\n",
      "Iteration 13, Full Model Training Error: 0.0000\n",
      "Iteration 14, Full Model Training Error: 0.0000\n",
      "Iteration 15, Full Model Training Error: 0.0000\n",
      "Iteration 16, Full Model Training Error: 0.0000\n",
      "Iteration 17, Full Model Training Error: 0.0000\n",
      "Iteration 18, Full Model Training Error: 0.0000\n",
      "Iteration 19, Full Model Training Error: 0.0000\n",
      "Iteration 20, Full Model Training Error: 0.0000\n",
      "Iteration 21, Full Model Training Error: 0.0000\n",
      "Iteration 22, Full Model Training Error: 0.0000\n",
      "Iteration 23, Full Model Training Error: 0.0000\n",
      "Iteration 24, Full Model Training Error: 0.0000\n",
      "Iteration 25, Full Model Training Error: 0.0000\n",
      "Iteration 26, Full Model Training Error: 0.0000\n",
      "Iteration 27, Full Model Training Error: 0.0000\n",
      "Iteration 28, Full Model Training Error: 0.0000\n",
      "Iteration 29, Full Model Training Error: 0.0000\n",
      "Iteration 30, Full Model Training Error: 0.0000\n",
      "Iteration 31, Full Model Training Error: 0.0000\n",
      "Iteration 32, Full Model Training Error: 0.0000\n",
      "Iteration 33, Full Model Training Error: 0.0000\n",
      "Iteration 34, Full Model Training Error: 0.0000\n",
      "Iteration 35, Full Model Training Error: 0.0000\n",
      "Iteration 36, Full Model Training Error: 0.0000\n",
      "Iteration 37, Full Model Training Error: 0.0000\n",
      "Iteration 38, Full Model Training Error: 0.0000\n",
      "Iteration 39, Full Model Training Error: 0.0000\n",
      "Iteration 40, Full Model Training Error: 0.0000\n",
      "Iteration 41, Full Model Training Error: 0.0000\n",
      "Iteration 42, Full Model Training Error: 0.0000\n",
      "Iteration 43, Full Model Training Error: 0.0000\n",
      "Iteration 44, Full Model Training Error: 0.0000\n",
      "Iteration 45, Full Model Training Error: 0.0000\n",
      "Iteration 46, Full Model Training Error: 0.0000\n",
      "Iteration 47, Full Model Training Error: 0.0000\n",
      "Iteration 48, Full Model Training Error: 0.0000\n",
      "Iteration 49, Full Model Training Error: 0.0000\n",
      "Iteration 50, Full Model Training Error: 0.0000\n",
      "Test Accuracy: 0.9800\n"
     ]
    }
   ],
   "execution_count": 29
  },
  {
   "metadata": {
    "ExecuteTime": {
     "end_time": "2024-12-17T12:31:18.398818Z",
     "start_time": "2024-12-17T12:31:18.117179Z"
    }
   },
   "cell_type": "code",
   "source": [
    "# Compare with sklearn's AdaBoost\n",
    "sklearn_adaboost = AdaBoostClassifier(estimator=DecisionTreeClassifier(max_depth=2), n_estimators=50, random_state=42, algorithm=\"SAMME\")\n",
    "sklearn_adaboost.fit(X_train, y_train)\n",
    "y_pred = sklearn_adaboost.predict(X_test)\n",
    "print(f\"Accuracy: {accuracy_score(y_test, y_pred):.4f}\")"
   ],
   "id": "c9d518132b0a564b",
   "outputs": [
    {
     "name": "stdout",
     "output_type": "stream",
     "text": [
      "Accuracy: 0.9775\n"
     ]
    }
   ],
   "execution_count": 30
  },
  {
   "metadata": {
    "ExecuteTime": {
     "end_time": "2024-12-17T12:31:18.424271Z",
     "start_time": "2024-12-17T12:31:18.416923Z"
    }
   },
   "cell_type": "code",
   "source": [
    "# Observe sklearn adaboost's alphas\n",
    "sklearn_adaboost.estimator_weights_"
   ],
   "id": "e3f18d882c5996d8",
   "outputs": [
    {
     "data": {
      "text/plain": [
       "array([2.40062565, 1.95328163, 1.19668684, 0.73362759, 0.7718797 ,\n",
       "       1.11680652, 0.53914972, 0.81555035, 0.9635308 , 0.8269898 ,\n",
       "       0.93581119, 0.62650846, 0.62001077, 0.71448114, 0.33452049,\n",
       "       0.59505237, 0.83058704, 0.76750517, 0.48499687, 0.44708708,\n",
       "       0.62601159, 0.48432714, 0.32880733, 0.23846477, 0.38549494,\n",
       "       0.68289672, 0.55517309, 0.40419962, 0.33897836, 0.2156798 ,\n",
       "       0.27203115, 0.45535569, 0.62017949, 0.58008241, 0.69186009,\n",
       "       0.44712323, 0.53142052, 0.99239431, 0.46125896, 0.44583022,\n",
       "       0.67754705, 0.53601525, 0.62448319, 0.75927866, 0.62550287,\n",
       "       0.97261718, 0.61892223, 0.5198978 , 0.61241282, 0.73404264])"
      ]
     },
     "execution_count": 31,
     "metadata": {},
     "output_type": "execute_result"
    }
   ],
   "execution_count": 31
  },
  {
   "metadata": {
    "ExecuteTime": {
     "end_time": "2024-12-17T12:31:18.463129Z",
     "start_time": "2024-12-17T12:31:18.456515Z"
    }
   },
   "cell_type": "code",
   "source": [
    "# Observe custom adaboost's alphas\n",
    "custom_adaboost_depth2_alphas"
   ],
   "id": "fde2e1b6eed301b2",
   "outputs": [
    {
     "data": {
      "text/plain": [
       "[np.float64(2.4006256499212277),\n",
       " np.float64(1.9532816299698454),\n",
       " np.float64(1.1966868407803886),\n",
       " np.float64(0.7336275940435628),\n",
       " np.float64(0.7718797041592603),\n",
       " np.float64(1.1168065155779576),\n",
       " np.float64(0.5391497166685935),\n",
       " np.float64(0.8155503480837013),\n",
       " np.float64(0.9635307952483293),\n",
       " np.float64(0.8269898019187222),\n",
       " np.float64(0.9358111935238438),\n",
       " np.float64(0.6265084609314147),\n",
       " np.float64(0.6200107665180146),\n",
       " np.float64(0.7144811439076671),\n",
       " np.float64(0.334520492722573),\n",
       " np.float64(0.5950523685683131),\n",
       " np.float64(0.8305870447608853),\n",
       " np.float64(0.7675051729823863),\n",
       " np.float64(0.48499687497466865),\n",
       " np.float64(0.44708708230705213),\n",
       " np.float64(0.6260115865997066),\n",
       " np.float64(0.48432714357682577),\n",
       " np.float64(0.3288073306289868),\n",
       " np.float64(0.2384647667536163),\n",
       " np.float64(0.38549494165748943),\n",
       " np.float64(0.6828967203811909),\n",
       " np.float64(0.5551730936796424),\n",
       " np.float64(0.40419962129591597),\n",
       " np.float64(0.33897835962362044),\n",
       " np.float64(0.2156798006778122),\n",
       " np.float64(0.27203114872614775),\n",
       " np.float64(0.45535568772087975),\n",
       " np.float64(0.6201794850211992),\n",
       " np.float64(0.5800824136005356),\n",
       " np.float64(0.691860086443895),\n",
       " np.float64(0.44712322991638387),\n",
       " np.float64(0.5314205194847973),\n",
       " np.float64(0.9923943131540813),\n",
       " np.float64(0.46125896113812076),\n",
       " np.float64(0.4458302224889348),\n",
       " np.float64(0.6775470461609081),\n",
       " np.float64(0.5360152466266223),\n",
       " np.float64(0.6244831937570309),\n",
       " np.float64(0.7592786590544126),\n",
       " np.float64(0.6255028742529631),\n",
       " np.float64(0.9726171777672767),\n",
       " np.float64(0.6189222282035999),\n",
       " np.float64(0.5198978018588611),\n",
       " np.float64(0.6124128247017796),\n",
       " np.float64(0.7340426396608093)]"
      ]
     },
     "execution_count": 32,
     "metadata": {},
     "output_type": "execute_result"
    }
   ],
   "execution_count": 32
  },
  {
   "metadata": {},
   "cell_type": "markdown",
   "source": [
    "#### Key observations:\n",
    "1. **Zero training error:**\n",
    "   As expected, the adaboost is reaching zero training error once the weak learners are strong enough (achieved already in 2-depth weak learners).\n",
    "\n",
    "2. **Overfitting robustness:**\n",
    "   Due to the boosting process, the model is somewhat more robust to overfitting. We can observe it by the fact that even with much stronger weak learners, the model is still performing well.\n",
    "\n",
    "3. **Outperforming results:**\n",
    "   The adaboost is outperforming the decision tree, even with 2-depth weak learners, demonstrating its superior performance.\n",
    "\n",
    "4. **Comparison to sklearn's AdaBoost:**\n",
    "    In much complex data, the custom adaboost alphas and sklearn's adaboost estimator weights the same indicating our accurate implementation\n"
   ],
   "id": "725c7c9508262d6e"
  },
  {
   "metadata": {
    "ExecuteTime": {
     "end_time": "2024-12-17T12:31:18.498919Z",
     "start_time": "2024-12-17T12:31:18.494966Z"
    }
   },
   "cell_type": "code",
   "source": "",
   "id": "1df48888b2852266",
   "outputs": [],
   "execution_count": null
  },
  {
   "metadata": {
    "ExecuteTime": {
     "end_time": "2024-12-17T12:31:18.541940Z",
     "start_time": "2024-12-17T12:31:18.537833Z"
    }
   },
   "cell_type": "code",
   "source": "",
   "id": "27687f0145dc56c1",
   "outputs": [],
   "execution_count": null
  },
  {
   "metadata": {
    "ExecuteTime": {
     "end_time": "2024-12-17T12:31:18.557922Z",
     "start_time": "2024-12-17T12:31:18.554921Z"
    }
   },
   "cell_type": "code",
   "source": "",
   "id": "9ef842d8a3ce7adf",
   "outputs": [],
   "execution_count": null
  },
  {
   "metadata": {
    "ExecuteTime": {
     "end_time": "2024-12-17T12:31:18.592021Z",
     "start_time": "2024-12-17T12:31:18.588750Z"
    }
   },
   "cell_type": "code",
   "source": "",
   "id": "a92ce071c793fd2b",
   "outputs": [],
   "execution_count": null
  },
  {
   "metadata": {
    "ExecuteTime": {
     "end_time": "2024-12-17T12:31:18.618102Z",
     "start_time": "2024-12-17T12:31:18.614153Z"
    }
   },
   "cell_type": "code",
   "source": "",
   "id": "671603681429c6b6",
   "outputs": [],
   "execution_count": null
  },
  {
   "metadata": {
    "ExecuteTime": {
     "end_time": "2024-12-17T12:31:18.653556Z",
     "start_time": "2024-12-17T12:31:18.649131Z"
    }
   },
   "cell_type": "code",
   "source": "",
   "id": "c9443b40e190c348",
   "outputs": [],
   "execution_count": null
  },
  {
   "metadata": {
    "ExecuteTime": {
     "end_time": "2024-12-17T12:31:18.697635Z",
     "start_time": "2024-12-17T12:31:18.694411Z"
    }
   },
   "cell_type": "code",
   "source": "",
   "id": "9823b31175e1f4d7",
   "outputs": [],
   "execution_count": null
  },
  {
   "cell_type": "markdown",
   "id": "da49bb42f79a55f",
   "metadata": {
    "collapsed": false,
    "jupyter": {
     "outputs_hidden": false
    }
   },
   "source": [
    "# AdaBoost demonstration \n",
    "Demonstrate your AdaBoost implementation.\n",
    "\n",
    "Add plots and figures. \n",
    "\n",
    "Please use the cell below to describe your results and tests.\n",
    "\n",
    "Describe the difference between your implementation and the sklearn implementation. Hint: you can look at the documentation."
   ]
  },
  {
   "cell_type": "markdown",
   "id": "a064afb5-aeea-48d8-b315-921bf4f8238f",
   "metadata": {},
   "source": []
  },
  {
   "cell_type": "code",
   "id": "9b3628856e1335fd",
   "metadata": {
    "collapsed": false,
    "jupyter": {
     "outputs_hidden": false
    },
    "ExecuteTime": {
     "end_time": "2024-12-17T12:31:18.735737Z",
     "start_time": "2024-12-17T12:31:18.730241Z"
    }
   },
   "source": [
    "custom_model = AdaBoostCustom(T=10)\n",
    "sklearn_model = AdaBoostClassifier(n_estimators=10, random_state=42)\n",
    "\n",
    "# Your code here"
   ],
   "outputs": [],
   "execution_count": 33
  },
  {
   "attachments": {},
   "cell_type": "markdown",
   "id": "73fa2fceedc77e92",
   "metadata": {
    "collapsed": false,
    "jupyter": {
     "outputs_hidden": false
    }
   },
   "source": [
    "# Generate additional data sets\n",
    "Generate at least two experimental datasets with binary labels, designed to demonstrate specific properties of AdaBoost (e.g., handling noise or overfitting).\n",
    "\n",
    "Add plots and figures.\n",
    "\n",
    "Please use the cell below to describe your suggested approach in detail. Use formal notations where appropriate.\n",
    "\n",
    "Describe and discuss your results."
   ]
  },
  {
   "cell_type": "markdown",
   "id": "7b34701c-cc3b-439a-b2d0-393449cf5a20",
   "metadata": {},
   "source": []
  },
  {
   "cell_type": "code",
   "id": "9d38dc132b23e7b",
   "metadata": {
    "collapsed": false,
    "jupyter": {
     "outputs_hidden": false
    },
    "ExecuteTime": {
     "end_time": "2024-12-17T12:31:18.770995Z",
     "start_time": "2024-12-17T12:31:18.765724Z"
    }
   },
   "source": [
    "# Generate additional data sets\n",
    "\n",
    "# Split data sets"
   ],
   "outputs": [],
   "execution_count": 34
  },
  {
   "cell_type": "code",
   "id": "567bfcc7-6542-489d-b67a-13004d3103b1",
   "metadata": {
    "ExecuteTime": {
     "end_time": "2024-12-17T12:31:18.796995Z",
     "start_time": "2024-12-17T12:31:18.793356Z"
    }
   },
   "source": [
    "# Visualize data"
   ],
   "outputs": [],
   "execution_count": 35
  },
  {
   "attachments": {},
   "cell_type": "markdown",
   "id": "5667598e-28fa-496e-b04b-ae528e653894",
   "metadata": {},
   "source": [
    "# Test algorithms\n",
    "Test your AdaBoost, a library implementation of AdaBoost and at least two additional models, one of which must be another boosting algorithm on your two datasets.\n",
    "\n",
    "Add plots and figures.\n",
    "\n",
    "Please use the cell below to describe your suggested approach in detail. Use formal notations where appropriate.\n",
    "\n",
    "Describe and discuss your results."
   ]
  },
  {
   "cell_type": "markdown",
   "id": "f959a354-350d-49b8-b203-bdf889778766",
   "metadata": {},
   "source": []
  },
  {
   "cell_type": "code",
   "id": "6e4c3e86-003e-4812-8b36-65e13fccc4c9",
   "metadata": {
    "ExecuteTime": {
     "end_time": "2024-12-17T12:31:18.842072Z",
     "start_time": "2024-12-17T12:31:18.837203Z"
    }
   },
   "source": [
    "# Set up models "
   ],
   "outputs": [],
   "execution_count": 36
  },
  {
   "cell_type": "code",
   "id": "d097c906-f362-4084-9ee8-0ff34568d53a",
   "metadata": {
    "ExecuteTime": {
     "end_time": "2024-12-17T12:31:18.863289Z",
     "start_time": "2024-12-17T12:31:18.858651Z"
    }
   },
   "source": [
    "# Test and visualize"
   ],
   "outputs": [],
   "execution_count": 37
  },
  {
   "cell_type": "markdown",
   "id": "18c95c7f-d3a9-4e3d-b539-02e020358766",
   "metadata": {},
   "source": [
    "# Use of generative AI\n",
    "Please use the cell below to describe your use of generative AI in this assignment. "
   ]
  },
  {
   "cell_type": "markdown",
   "id": "36753fd7-8b2d-487b-82ae-dc318eca3ca6",
   "metadata": {},
   "source": []
  }
 ],
 "metadata": {
  "kernelspec": {
   "display_name": "Python 3 (ipykernel)",
   "language": "python",
   "name": "python3"
  },
  "language_info": {
   "codemirror_mode": {
    "name": "ipython",
    "version": 3
   },
   "file_extension": ".py",
   "mimetype": "text/x-python",
   "name": "python",
   "nbconvert_exporter": "python",
   "pygments_lexer": "ipython3",
   "version": "3.12.7"
  }
 },
 "nbformat": 4,
 "nbformat_minor": 5
}
